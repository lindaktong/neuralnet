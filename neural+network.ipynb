{
 "cells": [
  {
   "cell_type": "code",
   "execution_count": 21,
   "metadata": {},
   "outputs": [
    {
     "name": "stdout",
     "output_type": "stream",
     "text": [
      "woof!\n"
     ]
    }
   ],
   "source": [
    "#Rashid, Tariq. Make Your Own Neural Network \n",
    "\n",
    "#class for a dog object \n",
    "class Dog: \n",
    "    \n",
    "    #dogs can bark() \n",
    "    def bark(self): \n",
    "        print(\"woof!\") \n",
    "        pass\n",
    "    pass\n",
    "\n",
    "sizzles = Dog() #creates variable sizzles, an object from the Dog class definition\n",
    "#objects are instances of a class\n",
    "#Dog() is a function that creates an instance of the Dog class\n",
    "sizzles.bark() #calls the bark function on the sizzles object"
   ]
  },
  {
   "cell_type": "code",
   "execution_count": 22,
   "metadata": {},
   "outputs": [
    {
     "name": "stdout",
     "output_type": "stream",
     "text": [
      "woof!\n",
      "woof!\n"
     ]
    }
   ],
   "source": [
    "sizzles = Dog()\n",
    "mutley = Dog()\n",
    "sizzles.bark()\n",
    "mutley.bark()"
   ]
  },
  {
   "cell_type": "code",
   "execution_count": 23,
   "metadata": {
    "collapsed": true
   },
   "outputs": [],
   "source": [
    "#methods are object functions\n",
    "\n",
    "#class for a dog object \n",
    "class Dog: \n",
    "    \n",
    "    #initialization method with internal data\n",
    "    def __init__(self, petname, temp): \n",
    "        #() indicate parameters for the function\n",
    "        #self means variables are part of this object itself\n",
    "        self.name = petname\n",
    "        self.temperature = temp\n",
    "    \n",
    "    #get status\n",
    "    def status(self):\n",
    "        #this function just prints out dog's name and temperature\n",
    "        print(\"dog name is\", self.name)\n",
    "        print(\"dog temperature is\", self.temperature)\n",
    "        pass\n",
    "    \n",
    "    #set temperature\n",
    "    def setTemperature(self,temp):\n",
    "        self.temperature = temp;\n",
    "        pass\n",
    "    \n",
    "    #dogs can bark() \n",
    "    def bark(self): \n",
    "        print(\"woof!\") \n",
    "        pass\n",
    "    \n",
    "    pass\n"
   ]
  },
  {
   "cell_type": "code",
   "execution_count": 24,
   "metadata": {
    "collapsed": true
   },
   "outputs": [],
   "source": [
    "#creates a new object from the Dog class\n",
    "lassie = Dog(\"Lassie\", 37)"
   ]
  },
  {
   "cell_type": "code",
   "execution_count": 25,
   "metadata": {},
   "outputs": [
    {
     "name": "stdout",
     "output_type": "stream",
     "text": [
      "dog name is Lassie\n",
      "dog temperature is 37\n"
     ]
    }
   ],
   "source": [
    "lassie.status()\n",
    "#prints out dog's name and curren temperature"
   ]
  },
  {
   "cell_type": "code",
   "execution_count": 26,
   "metadata": {},
   "outputs": [
    {
     "name": "stdout",
     "output_type": "stream",
     "text": [
      "dog name is Lassie\n",
      "dog temperature is 40\n"
     ]
    }
   ],
   "source": [
    "#change the temperature\n",
    "lassie.setTemperature(40)\n",
    "lassie.status()"
   ]
  },
  {
   "cell_type": "code",
   "execution_count": 27,
   "metadata": {
    "collapsed": true
   },
   "outputs": [],
   "source": [
    "#woohoo start making Python neuronetwork\n",
    "\n",
    "#how do neural networks work?\n",
    "    #neural networks have an input, output, and some type of calculation in between\n",
    "        #we can adjust the parameters when we don't know how exactly something works\n",
    "        #we adjust the parameters based on how wrong the model is when compared to true examples\n",
    "    #training\n",
    "        #the slope parameter is adjusted based on the output error\n",
    "        #a learning rate moderates the updates so that a single example does not dominate the learning\n",
    "        #moderating helps to limit impact of false examples\n",
    "    #calculation stuff\n",
    "        #the calculations in a nueral network are done via matrix multiplication\n",
    "        #neural networks learn by refining their link weights\n",
    "            #this is guided by the error (difference between desired and actual output)\n",
    "            #backpropagating the error can be expressed through matrix multiplication\n",
    "        #gradient descent - method for find the minimum of a function\n",
    "            #neural network's error = a function of internal link weights\n",
    "            #we can reduce the error by changing the weights\n",
    "            #this is done iteratively through gradient descent, with small steps taken in the direction of the greatest downward slope\n",
    "        \n",
    "\n",
    "#skeleton\n",
    "    #initialization - set the # of input, output, and hidden nodes\n",
    "    #train - refine the weights after given a training set to learn from \n",
    "    #query - produce output from input nodes"
   ]
  },
  {
   "cell_type": "code",
   "execution_count": 2,
   "metadata": {
    "collapsed": true
   },
   "outputs": [],
   "source": [
    "#code for 3 layer neural network and learning the MNIST Data set\n",
    "\n",
    "#neural network class definition\n",
    "import numpy\n",
    "import scipy.special\n",
    "    #apply sigmoid function\n",
    "    #scipy special for the sigmoid fuction expit ()\n",
    "\n",
    "class neuralNetwork:\n",
    "    \n",
    "    #initialize the neural network\n",
    "    def __init__(self, inputnodes, hiddennodes, outputnodes, learningrate):\n",
    "        #set number of nodes input, hidden, output layer\n",
    "        self.inodes = inputnodes\n",
    "        self.hnodes = hiddennodes\n",
    "        self.onodes = outputnodes\n",
    "        \n",
    "        #create network of nodes and links\n",
    "        #link weights are used to calculated the signal fed forward and error propagated backwards\n",
    "        #to refine the network\n",
    "\n",
    "        #this can be expressed by a matrix\n",
    "        #weights for links between input and hidden layers\n",
    "            #size = (hidden_nodes, input_nodes)\n",
    "        #weights for links between hidden and ouput layers\n",
    "            #size = (ouput_nodes, hidden_nodes)\n",
    "        \n",
    "        #create two link weight matrices using the self-inodes, self.hnodes, and sefl.onodes\n",
    "        #link weight matrices, wih and who\n",
    "        self.wih = (numpy.random.rand(self.hnodes,self.inodes)-0.5)\n",
    "        self.who = (numpy.random.rand(self.onodes,self.hnodes)-0.5)\n",
    "\n",
    "        #learning rate\n",
    "        #self.lr = learningrate\n",
    "        pass\n",
    "    \n",
    "        #activation function is the sigmoid function\n",
    "        #lambda - this just means we don't need to use the def() definitions; nameless/anonymous\n",
    "        self.activation_function = lambda x: scipy.special.expit(x)\n",
    "    \n",
    "    #train the neural netowrk\n",
    "    def train(self, inputs_list, targets_list):\n",
    "        \n",
    "        #find output for specfic example\n",
    "       \n",
    "        inputs = numpy.array(inputs_list, ndmin = 2).T\n",
    "        #convert inputs_list to 2d array\n",
    "        targets = numpy.array(targets_list, ndmin=2).T\n",
    "        #turns targets_list into array\n",
    "        \n",
    "        #takes input to a neural network and returns the network's output\n",
    "        #pass input signals from input layer through hidden layer and the final output layer\n",
    "        #calculage signals into hidden layer\n",
    "        \n",
    "        hidden_inputs = numpy.dot(self.wih,inputs)\n",
    "        #applies numpy library's dot product function for matrices to link weights w (hidden input) and inputs I\n",
    "        \n",
    "        #calculate the signals emerging from hidden layer\n",
    "        hidden_outputs = self.activation_function(hidden_inputs)\n",
    "        \n",
    "        #calculate signals into final output layer\n",
    "        final_inputs = numpy.dot(self.who, hidden_outputs)\n",
    "        #calculate signals emerging from final output layer\n",
    "        final_outputs = self.activation_function(final_inputs)\n",
    "        \n",
    "        #compare calculated output with desired output\n",
    "        #error = target-actual\n",
    "        output_errors = targets - final_outputs\n",
    "        \n",
    "        #hidden layer error is the output errors, split by weights, recombined at the hidden nodes\n",
    "        hidden_errors = numpy.dot(self.who.T, output_errors)\n",
    "        \n",
    "        #update the weights for the links between the hidden and output layers \n",
    "        self.who += self.lr * numpy.dot((output_errors * final_outputs * (1.0 - final_outputs)), numpy.transpose(hidden_outputs)) \n",
    "        \n",
    "        #update the weights for the links between the input and hidden layers\n",
    "        self.wih += self.lr * numpy.dot((hidden_errors * hidden_outputs * (1.0 - hidden_outputs)), numpy.transpose(inputs))\n",
    "\n",
    "        pass\n",
    "    \n",
    "    #query the neural network\n",
    "    def query(self, inputs_list):\n",
    "        \n",
    "        #convert inputs list to 2d array\n",
    "        inputs = numpy.array(inputs_list, ndmin = 2).T\n",
    "    \n",
    "        #takes input to a neural network and returns the network's output\n",
    "        #pass input signals from input layer through hidden layer and the final output layer\n",
    "    \n",
    "        #calculage signals into hidden layer\n",
    "        hidden_inputs = numpy.dot(self.wih,inputs)\n",
    "        #applies numpy library's dot product function for matrices to link weights w (hidden input) and inputs I\n",
    "\n",
    "        #calculate the signals emerging from hidden layer\n",
    "        hidden_outputs = self.activation_function(hidden_inputs)\n",
    "        \n",
    "        #calculate signals into final output layer\n",
    "        final_inputs = numpy.dot(self.who, hidden_outputs)\n",
    "        \n",
    "        #calculate signals emerging from final output layer\n",
    "        final_outputs = self.activation_function(final_inputs)\n",
    "        \n",
    "        return final_outputs\n",
    "        \n",
    "        pass"
   ]
  },
  {
   "cell_type": "code",
   "execution_count": 7,
   "metadata": {},
   "outputs": [],
   "source": [
    "data_file = open(\"desktop/mnist_train.csv\", 'r') \n",
    "data_list = data_file.readlines() \n",
    "data_file.close()"
   ]
  },
  {
   "cell_type": "code",
   "execution_count": 8,
   "metadata": {},
   "outputs": [
    {
     "data": {
      "text/plain": [
       "60000"
      ]
     },
     "execution_count": 8,
     "metadata": {},
     "output_type": "execute_result"
    }
   ],
   "source": [
    "len(data_list)\n",
    "#how long the list is"
   ]
  },
  {
   "cell_type": "code",
   "execution_count": 9,
   "metadata": {},
   "outputs": [
    {
     "data": {
      "text/plain": [
       "'5,0,0,0,0,0,0,0,0,0,0,0,0,0,0,0,0,0,0,0,0,0,0,0,0,0,0,0,0,0,0,0,0,0,0,0,0,0,0,0,0,0,0,0,0,0,0,0,0,0,0,0,0,0,0,0,0,0,0,0,0,0,0,0,0,0,0,0,0,0,0,0,0,0,0,0,0,0,0,0,0,0,0,0,0,0,0,0,0,0,0,0,0,0,0,0,0,0,0,0,0,0,0,0,0,0,0,0,0,0,0,0,0,0,0,0,0,0,0,0,0,0,0,0,0,0,0,0,0,0,0,0,0,0,0,0,0,0,0,0,0,0,0,0,0,0,0,0,0,0,0,0,0,3,18,18,18,126,136,175,26,166,255,247,127,0,0,0,0,0,0,0,0,0,0,0,0,30,36,94,154,170,253,253,253,253,253,225,172,253,242,195,64,0,0,0,0,0,0,0,0,0,0,0,49,238,253,253,253,253,253,253,253,253,251,93,82,82,56,39,0,0,0,0,0,0,0,0,0,0,0,0,18,219,253,253,253,253,253,198,182,247,241,0,0,0,0,0,0,0,0,0,0,0,0,0,0,0,0,0,0,80,156,107,253,253,205,11,0,43,154,0,0,0,0,0,0,0,0,0,0,0,0,0,0,0,0,0,0,0,14,1,154,253,90,0,0,0,0,0,0,0,0,0,0,0,0,0,0,0,0,0,0,0,0,0,0,0,0,0,139,253,190,2,0,0,0,0,0,0,0,0,0,0,0,0,0,0,0,0,0,0,0,0,0,0,0,0,11,190,253,70,0,0,0,0,0,0,0,0,0,0,0,0,0,0,0,0,0,0,0,0,0,0,0,0,0,35,241,225,160,108,1,0,0,0,0,0,0,0,0,0,0,0,0,0,0,0,0,0,0,0,0,0,0,0,81,240,253,253,119,25,0,0,0,0,0,0,0,0,0,0,0,0,0,0,0,0,0,0,0,0,0,0,0,45,186,253,253,150,27,0,0,0,0,0,0,0,0,0,0,0,0,0,0,0,0,0,0,0,0,0,0,0,16,93,252,253,187,0,0,0,0,0,0,0,0,0,0,0,0,0,0,0,0,0,0,0,0,0,0,0,0,0,249,253,249,64,0,0,0,0,0,0,0,0,0,0,0,0,0,0,0,0,0,0,0,0,0,46,130,183,253,253,207,2,0,0,0,0,0,0,0,0,0,0,0,0,0,0,0,0,0,0,0,39,148,229,253,253,253,250,182,0,0,0,0,0,0,0,0,0,0,0,0,0,0,0,0,0,0,24,114,221,253,253,253,253,201,78,0,0,0,0,0,0,0,0,0,0,0,0,0,0,0,0,0,23,66,213,253,253,253,253,198,81,2,0,0,0,0,0,0,0,0,0,0,0,0,0,0,0,0,18,171,219,253,253,253,253,195,80,9,0,0,0,0,0,0,0,0,0,0,0,0,0,0,0,0,55,172,226,253,253,253,253,244,133,11,0,0,0,0,0,0,0,0,0,0,0,0,0,0,0,0,0,0,136,253,253,253,212,135,132,16,0,0,0,0,0,0,0,0,0,0,0,0,0,0,0,0,0,0,0,0,0,0,0,0,0,0,0,0,0,0,0,0,0,0,0,0,0,0,0,0,0,0,0,0,0,0,0,0,0,0,0,0,0,0,0,0,0,0,0,0,0,0,0,0,0,0,0,0,0,0,0,0,0,0,0,0,0,0,0,0,0,0,0,0,0,0,0,0,0,0,0,0,0,0,0,0,0,0,0,0\\n'"
      ]
     },
     "execution_count": 9,
     "metadata": {},
     "output_type": "execute_result"
    }
   ],
   "source": [
    "data_list[0]\n",
    "#content of the first record"
   ]
  },
  {
   "cell_type": "code",
   "execution_count": 10,
   "metadata": {},
   "outputs": [],
   "source": [
    "import numpy\n",
    "import matplotlib.pyplot\n",
    "%matplotlib inline"
   ]
  },
  {
   "cell_type": "code",
   "execution_count": 12,
   "metadata": {},
   "outputs": [
    {
     "data": {
      "text/plain": [
       "<matplotlib.image.AxesImage at 0x1512411470>"
      ]
     },
     "execution_count": 12,
     "metadata": {},
     "output_type": "execute_result"
    },
    {
     "data": {
      "image/png": "[encoded data removed]",
      "text/plain": [
       "<matplotlib.figure.Figure at 0x151213d6a0>"
      ]
     },
     "metadata": {},
     "output_type": "display_data"
    }
   ],
   "source": [
    "all_values = data_list[0].split(',')\n",
    "#splits the above data list with commas\n",
    "image_array = numpy.asfarray(all_values[1:]).reshape((28,28))\n",
    "#convert text strings into numbers and create 28 by 28 array\n",
    "matplotlib.pyplot.imshow(image_array, cmap='Greys', interpolation='None')\n",
    "#plots image_array using imshow()"
   ]
  },
  {
   "cell_type": "code",
   "execution_count": 13,
   "metadata": {},
   "outputs": [
    {
     "name": "stdout",
     "output_type": "stream",
     "text": [
      "[ 0.01        0.01        0.01        0.01        0.01        0.01        0.01\n",
      "  0.01        0.01        0.01        0.01        0.01        0.01        0.01\n",
      "  0.01        0.01        0.01        0.01        0.01        0.01        0.01\n",
      "  0.01        0.01        0.01        0.01        0.01        0.01        0.01\n",
      "  0.01        0.01        0.01        0.01        0.01        0.01        0.01\n",
      "  0.01        0.01        0.01        0.01        0.01        0.01        0.01\n",
      "  0.01        0.01        0.01        0.01        0.01        0.01        0.01\n",
      "  0.01        0.01        0.01        0.01        0.01        0.01        0.01\n",
      "  0.01        0.01        0.01        0.01        0.01        0.01        0.01\n",
      "  0.01        0.01        0.01        0.01        0.01        0.01        0.01\n",
      "  0.01        0.01        0.01        0.01        0.01        0.01        0.01\n",
      "  0.01        0.01        0.01        0.01        0.01        0.01        0.01\n",
      "  0.01        0.01        0.01        0.01        0.01        0.01        0.01\n",
      "  0.01        0.01        0.01        0.01        0.01        0.01        0.01\n",
      "  0.01        0.01        0.01        0.01        0.01        0.01        0.01\n",
      "  0.01        0.01        0.01        0.01        0.01        0.01        0.01\n",
      "  0.01        0.01        0.01        0.01        0.01        0.01        0.01\n",
      "  0.01        0.01        0.01        0.01        0.01        0.01        0.01\n",
      "  0.01        0.01        0.01        0.01        0.01        0.01        0.01\n",
      "  0.01        0.01        0.01        0.01        0.01        0.01        0.01\n",
      "  0.01        0.01        0.01        0.01        0.01        0.01        0.01\n",
      "  0.01        0.01        0.01        0.01        0.01        0.02164706\n",
      "  0.07988235  0.07988235  0.07988235  0.49917647  0.538       0.68941176\n",
      "  0.11094118  0.65447059  1.          0.96894118  0.50305882  0.01        0.01\n",
      "  0.01        0.01        0.01        0.01        0.01        0.01        0.01\n",
      "  0.01        0.01        0.01        0.12647059  0.14976471  0.37494118\n",
      "  0.60788235  0.67        0.99223529  0.99223529  0.99223529  0.99223529\n",
      "  0.99223529  0.88352941  0.67776471  0.99223529  0.94952941  0.76705882\n",
      "  0.25847059  0.01        0.01        0.01        0.01        0.01        0.01\n",
      "  0.01        0.01        0.01        0.01        0.01        0.20023529\n",
      "  0.934       0.99223529  0.99223529  0.99223529  0.99223529  0.99223529\n",
      "  0.99223529  0.99223529  0.99223529  0.98447059  0.37105882  0.32835294\n",
      "  0.32835294  0.22741176  0.16141176  0.01        0.01        0.01        0.01\n",
      "  0.01        0.01        0.01        0.01        0.01        0.01        0.01\n",
      "  0.01        0.07988235  0.86023529  0.99223529  0.99223529  0.99223529\n",
      "  0.99223529  0.99223529  0.77870588  0.71658824  0.96894118  0.94564706\n",
      "  0.01        0.01        0.01        0.01        0.01        0.01        0.01\n",
      "  0.01        0.01        0.01        0.01        0.01        0.01        0.01\n",
      "  0.01        0.01        0.01        0.01        0.32058824  0.61564706\n",
      "  0.42541176  0.99223529  0.99223529  0.80588235  0.05270588  0.01\n",
      "  0.17694118  0.60788235  0.01        0.01        0.01        0.01        0.01\n",
      "  0.01        0.01        0.01        0.01        0.01        0.01        0.01\n",
      "  0.01        0.01        0.01        0.01        0.01        0.01        0.01\n",
      "  0.06435294  0.01388235  0.60788235  0.99223529  0.35941176  0.01        0.01\n",
      "  0.01        0.01        0.01        0.01        0.01        0.01        0.01\n",
      "  0.01        0.01        0.01        0.01        0.01        0.01        0.01\n",
      "  0.01        0.01        0.01        0.01        0.01        0.01        0.01\n",
      "  0.01        0.01        0.54964706  0.99223529  0.74764706  0.01776471\n",
      "  0.01        0.01        0.01        0.01        0.01        0.01        0.01\n",
      "  0.01        0.01        0.01        0.01        0.01        0.01        0.01\n",
      "  0.01        0.01        0.01        0.01        0.01        0.01        0.01\n",
      "  0.01        0.01        0.01        0.05270588  0.74764706  0.99223529\n",
      "  0.28176471  0.01        0.01        0.01        0.01        0.01        0.01\n",
      "  0.01        0.01        0.01        0.01        0.01        0.01        0.01\n",
      "  0.01        0.01        0.01        0.01        0.01        0.01        0.01\n",
      "  0.01        0.01        0.01        0.01        0.01        0.14588235\n",
      "  0.94564706  0.88352941  0.63117647  0.42929412  0.01388235  0.01        0.01\n",
      "  0.01        0.01        0.01        0.01        0.01        0.01        0.01\n",
      "  0.01        0.01        0.01        0.01        0.01        0.01        0.01\n",
      "  0.01        0.01        0.01        0.01        0.01        0.01        0.01\n",
      "  0.32447059  0.94176471  0.99223529  0.99223529  0.472       0.10705882\n",
      "  0.01        0.01        0.01        0.01        0.01        0.01        0.01\n",
      "  0.01        0.01        0.01        0.01        0.01        0.01        0.01\n",
      "  0.01        0.01        0.01        0.01        0.01        0.01        0.01\n",
      "  0.01        0.01        0.18470588  0.73211765  0.99223529  0.99223529\n",
      "  0.59235294  0.11482353  0.01        0.01        0.01        0.01        0.01\n",
      "  0.01        0.01        0.01        0.01        0.01        0.01        0.01\n",
      "  0.01        0.01        0.01        0.01        0.01        0.01        0.01\n",
      "  0.01        0.01        0.01        0.01        0.07211765  0.37105882\n",
      "  0.98835294  0.99223529  0.736       0.01        0.01        0.01        0.01\n",
      "  0.01        0.01        0.01        0.01        0.01        0.01        0.01\n",
      "  0.01        0.01        0.01        0.01        0.01        0.01        0.01\n",
      "  0.01        0.01        0.01        0.01        0.01        0.01        0.01\n",
      "  0.97670588  0.99223529  0.97670588  0.25847059  0.01        0.01        0.01\n",
      "  0.01        0.01        0.01        0.01        0.01        0.01        0.01\n",
      "  0.01        0.01        0.01        0.01        0.01        0.01        0.01\n",
      "  0.01        0.01        0.01        0.01        0.18858824  0.51470588\n",
      "  0.72047059  0.99223529  0.99223529  0.81364706  0.01776471  0.01        0.01\n",
      "  0.01        0.01        0.01        0.01        0.01        0.01        0.01\n",
      "  0.01        0.01        0.01        0.01        0.01        0.01        0.01\n",
      "  0.01        0.01        0.01        0.16141176  0.58458824  0.89905882\n",
      "  0.99223529  0.99223529  0.99223529  0.98058824  0.71658824  0.01        0.01\n",
      "  0.01        0.01        0.01        0.01        0.01        0.01        0.01\n",
      "  0.01        0.01        0.01        0.01        0.01        0.01        0.01\n",
      "  0.01        0.01        0.10317647  0.45258824  0.868       0.99223529\n",
      "  0.99223529  0.99223529  0.99223529  0.79035294  0.31282353  0.01        0.01\n",
      "  0.01        0.01        0.01        0.01        0.01        0.01        0.01\n",
      "  0.01        0.01        0.01        0.01        0.01        0.01        0.01\n",
      "  0.01        0.09929412  0.26623529  0.83694118  0.99223529  0.99223529\n",
      "  0.99223529  0.99223529  0.77870588  0.32447059  0.01776471  0.01        0.01\n",
      "  0.01        0.01        0.01        0.01        0.01        0.01        0.01\n",
      "  0.01        0.01        0.01        0.01        0.01        0.01        0.01\n",
      "  0.07988235  0.67388235  0.86023529  0.99223529  0.99223529  0.99223529\n",
      "  0.99223529  0.76705882  0.32058824  0.04494118  0.01        0.01        0.01\n",
      "  0.01        0.01        0.01        0.01        0.01        0.01        0.01\n",
      "  0.01        0.01        0.01        0.01        0.01        0.01\n",
      "  0.22352941  0.67776471  0.88741176  0.99223529  0.99223529  0.99223529\n",
      "  0.99223529  0.95729412  0.52635294  0.05270588  0.01        0.01        0.01\n",
      "  0.01        0.01        0.01        0.01        0.01        0.01        0.01\n",
      "  0.01        0.01        0.01        0.01        0.01        0.01        0.01\n",
      "  0.01        0.538       0.99223529  0.99223529  0.99223529  0.83305882\n",
      "  0.53411765  0.52247059  0.07211765  0.01        0.01        0.01        0.01\n",
      "  0.01        0.01        0.01        0.01        0.01        0.01        0.01\n",
      "  0.01        0.01        0.01        0.01        0.01        0.01        0.01\n",
      "  0.01        0.01        0.01        0.01        0.01        0.01        0.01\n",
      "  0.01        0.01        0.01        0.01        0.01        0.01        0.01\n",
      "  0.01        0.01        0.01        0.01        0.01        0.01        0.01\n",
      "  0.01        0.01        0.01        0.01        0.01        0.01        0.01\n",
      "  0.01        0.01        0.01        0.01        0.01        0.01        0.01\n",
      "  0.01        0.01        0.01        0.01        0.01        0.01        0.01\n",
      "  0.01        0.01        0.01        0.01        0.01        0.01        0.01\n",
      "  0.01        0.01        0.01        0.01        0.01        0.01        0.01\n",
      "  0.01        0.01        0.01        0.01        0.01        0.01        0.01\n",
      "  0.01        0.01        0.01        0.01        0.01        0.01        0.01\n",
      "  0.01        0.01        0.01        0.01        0.01        0.01        0.01\n",
      "  0.01        0.01        0.01        0.01        0.01      ]\n"
     ]
    }
   ],
   "source": [
    "#rescale color input values and shift them up to the desired range 0.01 to 1.00\n",
    "scaled_input = (numpy.asfarray(all_values[1:])/255.0*0.99)+0.01\n",
    "print(scaled_input)"
   ]
  },
  {
   "cell_type": "code",
   "execution_count": 14,
   "metadata": {},
   "outputs": [],
   "source": [
    "#construct target matrix\n",
    "\n",
    "#output nodes is 10\n",
    "onodes = 10\n",
    "\n",
    "targets = numpy.zeros(onodes) + 0.01\n",
    "#create array with zeros\n",
    "#why do we add 0.01 at the end????\n",
    "\n",
    "targets[int(all_values[0])] = 0.99\n",
    "#converts first input string into an integer and set the right element of the targets list to 0.99.\n",
    "#why are we setting the targets list to 0.99??"
   ]
  },
  {
   "cell_type": "code",
   "execution_count": 15,
   "metadata": {},
   "outputs": [
    {
     "name": "stdout",
     "output_type": "stream",
     "text": [
      "[ 0.01  0.01  0.01  0.01  0.01  0.99  0.01  0.01  0.01  0.01]\n"
     ]
    }
   ],
   "source": [
    "print(targets)"
   ]
  },
  {
   "cell_type": "code",
   "execution_count": 21,
   "metadata": {},
   "outputs": [],
   "source": [
    "#testing the network\n",
    "#load the mnist test data CSV file into a list \n",
    "test_data_file = open(\"desktop/mnist_train.csv\", 'r') \n",
    "test_data_list = test_data_file.readlines() \n",
    "test_data_file.close()"
   ]
  },
  {
   "cell_type": "code",
   "execution_count": 22,
   "metadata": {},
   "outputs": [
    {
     "name": "stdout",
     "output_type": "stream",
     "text": [
      "5\n"
     ]
    }
   ],
   "source": [
    "#get the first test record\n",
    "all_values = test_data_list[0].split(',')\n",
    "#print the label\n",
    "print(all_values[0])"
   ]
  },
  {
   "cell_type": "code",
   "execution_count": 23,
   "metadata": {},
   "outputs": [
    {
     "data": {
      "text/plain": [
       "<matplotlib.image.AxesImage at 0x151270e198>"
      ]
     },
     "execution_count": 23,
     "metadata": {},
     "output_type": "execute_result"
    },
    {
     "data": {
      "image/png": "[encoded data removed]",
      "text/plain": [
       "<matplotlib.figure.Figure at 0x15120c0fd0>"
      ]
     },
     "metadata": {},
     "output_type": "display_data"
    }
   ],
   "source": [
    "image_array = numpy.asfarray(all_values[1:]).reshape((28,28))\n",
    "matplotlib.pyplot.imshow(image_array, cmap='Greys', interpolation='None')"
   ]
  },
  {
   "cell_type": "code",
   "execution_count": 27,
   "metadata": {},
   "outputs": [
    {
     "ename": "ValueError",
     "evalue": "shapes (3,3) and (784,1) not aligned: 3 (dim 1) != 784 (dim 0)",
     "output_type": "error",
     "traceback": [
      "\u001b[0;31m---------------------------------------------------------------------------\u001b[0m",
      "\u001b[0;31mValueError\u001b[0m                                Traceback (most recent call last)",
      "\u001b[0;32m<ipython-input-27-2712dc3745e4>\u001b[0m in \u001b[0;36m<module>\u001b[0;34m()\u001b[0m\n\u001b[0;32m----> 1\u001b[0;31m \u001b[0mn\u001b[0m\u001b[0;34m.\u001b[0m\u001b[0mquery\u001b[0m\u001b[0;34m(\u001b[0m\u001b[0;34m(\u001b[0m\u001b[0mnumpy\u001b[0m\u001b[0;34m.\u001b[0m\u001b[0masfarray\u001b[0m\u001b[0;34m(\u001b[0m\u001b[0mall_values\u001b[0m\u001b[0;34m[\u001b[0m\u001b[0;36m1\u001b[0m\u001b[0;34m:\u001b[0m\u001b[0;34m]\u001b[0m\u001b[0;34m)\u001b[0m \u001b[0;34m/\u001b[0m \u001b[0;36m255.0\u001b[0m \u001b[0;34m*\u001b[0m \u001b[0;36m0.99\u001b[0m\u001b[0;34m)\u001b[0m \u001b[0;34m+\u001b[0m \u001b[0;36m0.01\u001b[0m\u001b[0;34m)\u001b[0m\u001b[0;34m\u001b[0m\u001b[0m\n\u001b[0m",
      "\u001b[0;32m<ipython-input-2-0f2f20987cef>\u001b[0m in \u001b[0;36mquery\u001b[0;34m(self, inputs_list)\u001b[0m\n\u001b[1;32m     87\u001b[0m \u001b[0;34m\u001b[0m\u001b[0m\n\u001b[1;32m     88\u001b[0m         \u001b[0;31m#calculage signals into hidden layer\u001b[0m\u001b[0;34m\u001b[0m\u001b[0;34m\u001b[0m\u001b[0m\n\u001b[0;32m---> 89\u001b[0;31m         \u001b[0mhidden_inputs\u001b[0m \u001b[0;34m=\u001b[0m \u001b[0mnumpy\u001b[0m\u001b[0;34m.\u001b[0m\u001b[0mdot\u001b[0m\u001b[0;34m(\u001b[0m\u001b[0mself\u001b[0m\u001b[0;34m.\u001b[0m\u001b[0mwih\u001b[0m\u001b[0;34m,\u001b[0m\u001b[0minputs\u001b[0m\u001b[0;34m)\u001b[0m\u001b[0;34m\u001b[0m\u001b[0m\n\u001b[0m\u001b[1;32m     90\u001b[0m         \u001b[0;31m#applies numpy library's dot product function for matrices to link weights w (hidden input) and inputs I\u001b[0m\u001b[0;34m\u001b[0m\u001b[0;34m\u001b[0m\u001b[0m\n\u001b[1;32m     91\u001b[0m \u001b[0;34m\u001b[0m\u001b[0m\n",
      "\u001b[0;31mValueError\u001b[0m: shapes (3,3) and (784,1) not aligned: 3 (dim 1) != 784 (dim 0)"
     ]
    }
   ],
   "source": [
    "n.query((numpy.asfarray(all_values[1:]) / 255.0 * 0.99) + 0.01)"
   ]
  },
  {
   "cell_type": "code",
   "execution_count": 28,
   "metadata": {},
   "outputs": [
    {
     "name": "stdout",
     "output_type": "stream",
     "text": [
      "3 3\n"
     ]
    }
   ],
   "source": []
  },
  {
   "cell_type": "code",
   "execution_count": 5,
   "metadata": {},
   "outputs": [
    {
     "data": {
      "text/plain": [
       "array([[ 0.53718858],\n",
       "       [ 0.45250054],\n",
       "       [ 0.49064722]])"
      ]
     },
     "execution_count": 5,
     "metadata": {},
     "output_type": "execute_result"
    }
   ],
   "source": [
    "#this is a small neural network with 3 nodes in each layer and a learning rate of 0.5\n",
    "\n",
    "#number of input, hidden, and output nodes\n",
    "input_nodes = 3\n",
    "hidden_nodes = 3\n",
    "output_nodes = 3\n",
    "\n",
    "#learning rate is 0.3\n",
    "learning_rate = 0.3\n",
    "\n",
    "#create instance of neural netowrk\n",
    "n = neuralNetwork(input_nodes, hidden_nodes, output_nodes, learning_rate)\n",
    "\n",
    "n.query([1.0, 0.5, -1.5])"
   ]
  },
  {
   "cell_type": "code",
   "execution_count": null,
   "metadata": {
    "collapsed": true
   },
   "outputs": [],
   "source": [
    "#generate random values\n",
    "numpy.random.rand(3,3)"
   ]
  },
  {
   "cell_type": "code",
   "execution_count": null,
   "metadata": {
    "collapsed": true
   },
   "outputs": [],
   "source": [
    "#create negative values by expanding range to appx. (-0.5, 0.5)\n",
    "numpy.random.rand(3,3)-0.5"
   ]
  },
  {
   "cell_type": "code",
   "execution_count": null,
   "metadata": {
    "collapsed": true
   },
   "outputs": [],
   "source": []
  },
  {
   "cell_type": "code",
   "execution_count": null,
   "metadata": {
    "collapsed": true
   },
   "outputs": [],
   "source": [
    "\n"
   ]
  }
 ],
 "metadata": {
  "kernelspec": {
   "display_name": "Python 3",
   "language": "python",
   "name": "python3"
  },
  "language_info": {
   "codemirror_mode": {
    "name": "ipython",
    "version": 3
   },
   "file_extension": ".py",
   "mimetype": "text/x-python",
   "name": "python",
   "nbconvert_exporter": "python",
   "pygments_lexer": "ipython3",
   "version": "3.6.2"
  }
 },
 "nbformat": 4,
 "nbformat_minor": 2
}
